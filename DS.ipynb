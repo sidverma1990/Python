{
  "nbformat": 4,
  "nbformat_minor": 0,
  "metadata": {
    "colab": {
      "provenance": [],
      "authorship_tag": "ABX9TyNOPUiEA+0Di9P58TkEy/Gp",
      "include_colab_link": true
    },
    "kernelspec": {
      "name": "python3",
      "display_name": "Python 3"
    },
    "language_info": {
      "name": "python"
    }
  },
  "cells": [
    {
      "cell_type": "markdown",
      "metadata": {
        "id": "view-in-github",
        "colab_type": "text"
      },
      "source": [
        "<a href=\"https://colab.research.google.com/github/sidverma1990/Python/blob/main/DS.ipynb\" target=\"_parent\"><img src=\"https://colab.research.google.com/assets/colab-badge.svg\" alt=\"Open In Colab\"/></a>"
      ]
    },
    {
      "cell_type": "code",
      "execution_count": 1,
      "metadata": {
        "colab": {
          "base_uri": "https://localhost:8080/"
        },
        "id": "0Qvv2MqIPVll",
        "outputId": "57400d7b-f4b3-4963-f571-f2f2698c92c5"
      },
      "outputs": [
        {
          "output_type": "stream",
          "name": "stdout",
          "text": [
            "10\n",
            "20\n",
            "30\n",
            "40\n",
            "50\n"
          ]
        }
      ],
      "source": [
        "#create an array and access the elements using loop\n",
        "from array import *\n",
        "\n",
        "array1 = array('i', [10,20,30,40,50])\n",
        "\n",
        "for x in array1:\n",
        "   print(x)"
      ]
    },
    {
      "cell_type": "code",
      "source": [
        "#Access an array element\n",
        "array1 = array('i', [10,20,30,40,50])\n",
        "\n",
        "print (array1[0])\n",
        "\n",
        "print (array1[2])"
      ],
      "metadata": {
        "colab": {
          "base_uri": "https://localhost:8080/"
        },
        "id": "Xs79zrBtP3sp",
        "outputId": "a73e37dd-afb1-4226-b470-781e6bc58b08"
      },
      "execution_count": 2,
      "outputs": [
        {
          "output_type": "stream",
          "name": "stdout",
          "text": [
            "10\n",
            "30\n"
          ]
        }
      ]
    },
    {
      "cell_type": "code",
      "source": [
        "#Insert and elemnet\n",
        "array1 = array('i', [10,20,30,40,50])\n",
        "\n",
        "array1.insert(1,60)\n",
        "\n",
        "for x in array1:\n",
        "   print(x)"
      ],
      "metadata": {
        "colab": {
          "base_uri": "https://localhost:8080/"
        },
        "id": "jGa9xQE1QEKn",
        "outputId": "770df2b9-e0e0-4df5-b660-0a1cc2753fb7"
      },
      "execution_count": 5,
      "outputs": [
        {
          "output_type": "stream",
          "name": "stdout",
          "text": [
            "10\n",
            "60\n",
            "20\n",
            "30\n",
            "40\n",
            "50\n"
          ]
        }
      ]
    },
    {
      "cell_type": "code",
      "source": [
        "#remove and element\n",
        "array1 = array('i', [10,20,30,40,50])\n",
        "\n",
        "array1.remove(array1[4])\n",
        "array1.remove(40)\n",
        "\n",
        "print(array1)"
      ],
      "metadata": {
        "colab": {
          "base_uri": "https://localhost:8080/"
        },
        "id": "vsqdng5YQal2",
        "outputId": "a7bce2b1-f42a-4ef3-ea21-1297dd677834"
      },
      "execution_count": 11,
      "outputs": [
        {
          "output_type": "stream",
          "name": "stdout",
          "text": [
            "array('i', [10, 20, 30])\n"
          ]
        }
      ]
    },
    {
      "cell_type": "code",
      "source": [
        "#Searching element in an array\n",
        "array1 = array('i', [10,20,30,40,50])\n",
        "\n",
        "print (array1.index(40))"
      ],
      "metadata": {
        "colab": {
          "base_uri": "https://localhost:8080/"
        },
        "id": "-4pqhxbuQkgH",
        "outputId": "25f20dfd-6daa-4c04-dfb5-1abe2ad3111b"
      },
      "execution_count": 12,
      "outputs": [
        {
          "output_type": "stream",
          "name": "stdout",
          "text": [
            "3\n"
          ]
        }
      ]
    },
    {
      "cell_type": "code",
      "source": [
        "#updating and element\n",
        "array1 = array('i', [10,20,30,40,50])\n",
        "\n",
        "array1[2] = 80\n",
        "\n",
        "for x in array1:\n",
        "   print(x)"
      ],
      "metadata": {
        "colab": {
          "base_uri": "https://localhost:8080/"
        },
        "id": "DQHPk6uaRLfI",
        "outputId": "4a13b2ca-0761-489c-ba91-35e70d58a6e9"
      },
      "execution_count": 13,
      "outputs": [
        {
          "output_type": "stream",
          "name": "stdout",
          "text": [
            "10\n",
            "20\n",
            "80\n",
            "40\n",
            "50\n"
          ]
        }
      ]
    },
    {
      "cell_type": "code",
      "source": [],
      "metadata": {
        "id": "ujGv-RkNRY4Y"
      },
      "execution_count": null,
      "outputs": []
    }
  ]
}